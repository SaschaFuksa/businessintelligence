{
 "cells": [
  {
   "cell_type": "code",
   "execution_count": 1,
   "metadata": {},
   "outputs": [],
   "source": [
    "from Utilities.OutsideFileCollector import OutsideFileCollector\n",
    "from Utilities.AnomalyDetector import AnomalyDetector\n",
    "import os\n",
    "\n",
    "input_path = 'D:\\OneDrive\\Dokumente\\Jupyter\\WI3_BusinessIntelligence_Sycn_Result_WP2_Bi3/'\n",
    "output_path = 'D:\\OneDrive\\Dokumente\\Jupyter\\WI3_BusinessIntelligence_Anomaly_Result_WP2_Bi3/'"
   ]
  },
  {
   "cell_type": "code",
   "execution_count": 2,
   "metadata": {},
   "outputs": [],
   "source": [
    "outside_file_collector = OutsideFileCollector()\n",
    "anomaly_detector = AnomalyDetector(False)"
   ]
  },
  {
   "cell_type": "code",
   "execution_count": 3,
   "metadata": {},
   "outputs": [],
   "source": [
    "all_files = os.listdir(input_path)\n",
    "outside_files = outside_file_collector.get_outside_files(all_files)"
   ]
  },
  {
   "cell_type": "code",
   "execution_count": 4,
   "metadata": {},
   "outputs": [],
   "source": [
    "for outside_file in outside_files:\n",
    "    final_frame = anomaly_detector.detect_distances(input_path+outside_file)\n",
    "    final_frame.to_csv(output_path + outside_file, index=False)"
   ]
  },
  {
   "cell_type": "code",
   "execution_count": null,
   "metadata": {},
   "outputs": [],
   "source": []
  }
 ],
 "metadata": {
  "kernelspec": {
   "display_name": "Python 3",
   "language": "python",
   "name": "python3"
  },
  "language_info": {
   "codemirror_mode": {
    "name": "ipython",
    "version": 3
   },
   "file_extension": ".py",
   "mimetype": "text/x-python",
   "name": "python",
   "nbconvert_exporter": "python",
   "pygments_lexer": "ipython3",
   "version": "3.8.3"
  }
 },
 "nbformat": 4,
 "nbformat_minor": 5
}
