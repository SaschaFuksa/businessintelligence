{
 "cells": [
  {
   "cell_type": "code",
   "execution_count": 1,
   "metadata": {},
   "outputs": [],
   "source": [
    "from Utilities.DataSyncer import DataSyncer\n",
    "import os\n",
    "\n",
    "input_path = 'WI3_BusinessIntelligence_Cleansing_Result_WP2_Bi3/'\n",
    "output_path = 'D:\\OneDrive\\Dokumente\\Jupyter/WI3_BusinessIntelligence_Sycn_Result_WP2_Bi3/'"
   ]
  },
  {
   "cell_type": "code",
   "execution_count": 2,
   "metadata": {},
   "outputs": [],
   "source": [
    "inside_diffs = { 20211016 : 1.569, 20211017 : 0.757, 20211018 : 2.104, 20211019 : 2.370,\\\n",
    "                20211020 : 2.358, 20211021 : 2.354, 20211022 : 2.345, 20211023 : 1.555,\\\n",
    "                20211024 : 0.745, 20211025 : 2.331, 20211026 : 2.358, 20211027 : 2.336,\\\n",
    "                20211028 : 2.362, 20211029 : 2.335, 20211030 : 1.558}\n",
    "outside_diffs = { 20211016 : 0.991, 20211017 : 0.446, 20211018 : 1.221, 20211019 : 1.504,\\\n",
    "                20211020 : 1.505, 20211021 : 1.460, 20211022 : 1.464, 20211023 : 0.980,\\\n",
    "                20211024 : 0.430, 20211025 : 1.448, 20211026 : 1.474, 20211027 : 1.463,\\\n",
    "                20211028 : 1.486, 20211029 : 1.459, 20211030 : 0.969}"
   ]
  },
  {
   "cell_type": "code",
   "execution_count": 3,
   "metadata": {},
   "outputs": [],
   "source": [
    "all_files = os.listdir(input_path)\n",
    "files = []\n",
    "for file in all_files:\n",
    "    if file.endswith('.csv'):\n",
    "        files.append(file)"
   ]
  },
  {
   "cell_type": "code",
   "execution_count": 4,
   "metadata": {},
   "outputs": [],
   "source": [
    "for file in files:\n",
    "    syncer = DataSyncer()\n",
    "    diff = 0.0\n",
    "    date = file.split('-')[0]\n",
    "    if 'inside' in file:\n",
    "        diff = inside_diffs[int(date)]\n",
    "    elif 'outside' in file:\n",
    "        diff = outside_diffs[int(date)]\n",
    "    dataframe = syncer.sync(input_path+file, diff)\n",
    "    dataframe.to_csv(output_path+file, index=False)"
   ]
  }
 ],
 "metadata": {
  "kernelspec": {
   "display_name": "Python 3",
   "language": "python",
   "name": "python3"
  },
  "language_info": {
   "codemirror_mode": {
    "name": "ipython",
    "version": 3
   },
   "file_extension": ".py",
   "mimetype": "text/x-python",
   "name": "python",
   "nbconvert_exporter": "python",
   "pygments_lexer": "ipython3",
   "version": "3.8.3"
  }
 },
 "nbformat": 4,
 "nbformat_minor": 4
}
