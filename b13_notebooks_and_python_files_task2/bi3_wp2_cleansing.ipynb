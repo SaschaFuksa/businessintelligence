{
 "cells": [
  {
   "cell_type": "code",
   "execution_count": 1,
   "metadata": {},
   "outputs": [],
   "source": [
    "from Utilities.Cleansing import Cleansing\n",
    "import os\n",
    "\n",
    "# Define paths\n",
    "input_path = 'WI3_BusinessIntelligence_Data_WP2_Bi3/'\n",
    "out_path = 'WI3_BusinessIntelligence_Cleansing_Result_WP2_Bi3/'"
   ]
  },
  {
   "cell_type": "code",
   "execution_count": 2,
   "metadata": {},
   "outputs": [],
   "source": [
    "all_files = os.listdir(input_path)\n",
    "files = []\n",
    "for file in all_files:\n",
    "    if file.endswith('.csv'):\n",
    "        files.append(file)"
   ]
  },
  {
   "cell_type": "code",
   "execution_count": 6,
   "metadata": {},
   "outputs": [],
   "source": [
    "cleaner = Cleansing()\n",
    "for file in files:\n",
    "    if 'inside' in file:\n",
    "        dataframe = cleaner.clean_inside(input_path+file)\n",
    "        dataframe.to_csv(out_path+file, index=False)\n",
    "    elif 'outside' in file:\n",
    "        dataframe = cleaner.clean_outside(input_path+file)\n",
    "        dataframe.to_csv(out_path+file, index=False)"
   ]
  }
 ],
 "metadata": {
  "kernelspec": {
   "display_name": "Python 3",
   "language": "python",
   "name": "python3"
  },
  "language_info": {
   "codemirror_mode": {
    "name": "ipython",
    "version": 3
   },
   "file_extension": ".py",
   "mimetype": "text/x-python",
   "name": "python",
   "nbconvert_exporter": "python",
   "pygments_lexer": "ipython3",
   "version": "3.8.3"
  }
 },
 "nbformat": 4,
 "nbformat_minor": 4
}
