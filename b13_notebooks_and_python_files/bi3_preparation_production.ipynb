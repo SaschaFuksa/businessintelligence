{
 "cells": [
  {
   "cell_type": "code",
   "execution_count": 1,
   "metadata": {},
   "outputs": [],
   "source": [
    "from Utilities.FileCollector import FileCollector\n",
    "from Utilities.ProductionPreparer import ProductionPreparer\n",
    "\n",
    "# Define paths\n",
    "input_path = 'WI3_BusinessIntelligence_Data_Bi3/'\n",
    "out_path = 'WI3_BusinessIntelligence_Result_Bi3/'"
   ]
  },
  {
   "cell_type": "code",
   "execution_count": 2,
   "metadata": {},
   "outputs": [],
   "source": [
    "file_collector = FileCollector()\n",
    "log_preparer = ProductionPreparer()"
   ]
  },
  {
   "cell_type": "code",
   "execution_count": 3,
   "metadata": {},
   "outputs": [],
   "source": [
    "production_file = file_collector.get_production_file(input_path)\n",
    "production_dataframe = log_preparer.prepare_production(input_path+production_file)\n",
    "production_dataframe.to_csv(out_path+'production.csv')"
   ]
  }
 ],
 "metadata": {
  "kernelspec": {
   "display_name": "Python 3",
   "language": "python",
   "name": "python3"
  },
  "language_info": {
   "codemirror_mode": {
    "name": "ipython",
    "version": 3
   },
   "file_extension": ".py",
   "mimetype": "text/x-python",
   "name": "python",
   "nbconvert_exporter": "python",
   "pygments_lexer": "ipython3",
   "version": "3.8.3"
  }
 },
 "nbformat": 4,
 "nbformat_minor": 4
}
