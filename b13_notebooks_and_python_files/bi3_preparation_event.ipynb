{
 "cells": [
  {
   "cell_type": "code",
   "execution_count": 1,
   "metadata": {},
   "outputs": [],
   "source": [
    "from Utilities.FileCollector import FileCollector\n",
    "from Utilities.EventPreparer import EventPreparer\n",
    "\n",
    "# Define paths\n",
    "input_path = 'WI3_BusinessIntelligence_Data_Bi3/'\n",
    "out_path = 'WI3_BusinessIntelligence_Result_Bi3/'"
   ]
  },
  {
   "cell_type": "code",
   "execution_count": 2,
   "metadata": {},
   "outputs": [],
   "source": [
    "file_collector = FileCollector()\n",
    "log_preparer = EventPreparer()"
   ]
  },
  {
   "cell_type": "code",
   "execution_count": 27,
   "metadata": {},
   "outputs": [],
   "source": [
    "event_file = file_collector.get_event_file(input_path)\n",
    "event_dataframe = log_preparer.prepare_event(input_path+event_file)\n",
    "event_dataframe.to_csv(out_path+'event.csv')"
   ]
  },
  {
   "cell_type": "code",
   "execution_count": null,
   "metadata": {},
   "outputs": [],
   "source": []
  }
 ],
 "metadata": {
  "kernelspec": {
   "display_name": "Python 3",
   "language": "python",
   "name": "python3"
  },
  "language_info": {
   "codemirror_mode": {
    "name": "ipython",
    "version": 3
   },
   "file_extension": ".py",
   "mimetype": "text/x-python",
   "name": "python",
   "nbconvert_exporter": "python",
   "pygments_lexer": "ipython3",
   "version": "3.8.3"
  }
 },
 "nbformat": 4,
 "nbformat_minor": 5
}
