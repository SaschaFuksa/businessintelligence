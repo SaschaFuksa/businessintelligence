{
 "cells": [
  {
   "cell_type": "code",
   "execution_count": 1,
   "metadata": {},
   "outputs": [],
   "source": [
    "from Utilities.FileCollector import FileCollector\n",
    "from Utilities.ShiftRecognizer import ShiftRecognizer\n",
    "from Utilities.CycleRecognizer import CycleRecognizer\n",
    "import pandas\n",
    "\n",
    "# Define paths\n",
    "input_path = 'WI3_BusinessIntelligence_Data_Bi3/'\n",
    "out_path = 'WI3_BusinessIntelligence_Result_Bi3/'"
   ]
  },
  {
   "cell_type": "code",
   "execution_count": 2,
   "metadata": {},
   "outputs": [],
   "source": [
    "# Collect files\n",
    "file_collector = FileCollector()\n",
    "day_to_sensor_files = file_collector.get_files_matched_to_date(input_path)\n",
    "cycle_recognizer = CycleRecognizer()"
   ]
  },
  {
   "cell_type": "code",
   "execution_count": null,
   "metadata": {},
   "outputs": [
    {
     "name": "stderr",
     "output_type": "stream",
     "text": [
      "D:\\Program Files\\anaconda3\\lib\\site-packages\\pandas\\core\\indexing.py:671: SettingWithCopyWarning: \n",
      "A value is trying to be set on a copy of a slice from a DataFrame\n",
      "\n",
      "See the caveats in the documentation: https://pandas.pydata.org/pandas-docs/stable/user_guide/indexing.html#returning-a-view-versus-a-copy\n",
      "  self._setitem_with_indexer(indexer, value)\n"
     ]
    }
   ],
   "source": [
    "# Fill files with cycles\n",
    "position_to_sensor_files = {'inside': [], 'outside': []}\n",
    "for day_to_sensor_file in day_to_sensor_files:\n",
    "    sensor_files = day_to_sensor_files[day_to_sensor_file]\n",
    "    inside_file = file_collector.get_inside_file(sensor_files)\n",
    "    outside_file = file_collector.get_outside_file(sensor_files)\n",
    "    outside_file = cycle_recognizer.recognize_cycle(input_path+outside_file)\n",
    "    cycle_columns = outside_file[['timer_minute', 'timer_second', 'sensor_cycle', 'sensor_cycle_similarity', 'cycle_number']].copy()\n",
    "    inside_file = cycle_recognizer.append_cycle_to_file(cycle_columns, input_path+inside_file)\n",
    "    inside_file = inside_file[['timer', 'timer_minute', 'timer_second', 'accelerometer_x_max', 'accelerometer_y_max', 'accelerometer_z_max', 'accelerometer_x_min', 'accelerometer_y_min', 'accelerometer_z_min',\\\n",
    "                              'accelerometer_x_max_quantile', 'accelerometer_y_max_quantile', 'accelerometer_z_max_quantile', 'accelerometer_x_min_quantile', 'accelerometer_y_min_quantile',\\\n",
    "                               'accelerometer_z_min_quantile', 'magnetometer_x_mean', 'magnetometer_y_mean', 'magnetometer_z_mean', 'magnetometer_x_median', 'magnetometer_y_median',\\\n",
    "                              'magnetometer_z_median', 'audio_max', 'audio_max_quantile', 'sensor_cycle_similarity', 'sensor_cycle', 'cycle_number']]\n",
    "    outside_file = outside_file[['timer', 'timer_minute', 'timer_second', 'accelerometer_x_max', 'accelerometer_y_max', 'accelerometer_z_max', 'accelerometer_x_min', 'accelerometer_y_min', 'accelerometer_z_min',\\\n",
    "                              'accelerometer_x_max_quantile', 'accelerometer_y_max_quantile', 'accelerometer_z_max_quantile', 'accelerometer_x_min_quantile', 'accelerometer_y_min_quantile',\\\n",
    "                               'accelerometer_z_min_quantile', 'magnetometer_x_mean', 'magnetometer_y_mean', 'magnetometer_z_mean', 'magnetometer_x_median', 'magnetometer_y_median',\\\n",
    "                              'magnetometer_z_median', 'audio_max', 'audio_max_quantile', 'sensor_cycle_similarity', 'sensor_cycle', 'cycle_number']]\n",
    "    position_to_sensor_files['inside'].append(inside_file)\n",
    "    position_to_sensor_files['outside'].append(outside_file)"
   ]
  },
  {
   "cell_type": "code",
   "execution_count": null,
   "metadata": {},
   "outputs": [],
   "source": [
    "# Iterate trough relevant files, add to main data frame, add shift and save as .csv\n",
    "for sensor_files in position_to_sensor_files:\n",
    "    final_dataframe = None\n",
    "    for sensor_file in position_to_sensor_files[sensor_files]:\n",
    "        shift_recognizer = ShiftRecognizer()\n",
    "        sensor_dataframe = shift_recognizer.add_shift(sensor_file)\n",
    "        if final_dataframe is None:\n",
    "            final_dataframe = sensor_dataframe\n",
    "        else:\n",
    "            final_dataframe = pandas.concat([final_dataframe, sensor_dataframe])\n",
    "    final_dataframe.to_csv(out_path+sensor_files+'.csv', index=False)"
   ]
  },
  {
   "cell_type": "code",
   "execution_count": null,
   "metadata": {},
   "outputs": [],
   "source": []
  }
 ],
 "metadata": {
  "kernelspec": {
   "display_name": "Python 3",
   "language": "python",
   "name": "python3"
  },
  "language_info": {
   "codemirror_mode": {
    "name": "ipython",
    "version": 3
   },
   "file_extension": ".py",
   "mimetype": "text/x-python",
   "name": "python",
   "nbconvert_exporter": "python",
   "pygments_lexer": "ipython3",
   "version": "3.8.3"
  }
 },
 "nbformat": 4,
 "nbformat_minor": 4
}
