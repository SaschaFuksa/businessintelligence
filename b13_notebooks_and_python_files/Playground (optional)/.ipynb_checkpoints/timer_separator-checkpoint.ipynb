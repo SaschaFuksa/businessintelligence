{
 "cells": [
  {
   "cell_type": "code",
   "execution_count": 1,
   "metadata": {},
   "outputs": [],
   "source": [
    "from Utilities.FileCollector import FileCollector\n",
    "import pandas\n",
    "\n",
    "# Define paths\n",
    "input_path = 'WI3_BusinessIntelligence_Data_Bi3/'\n",
    "out_path = 'Michis_Timer/'"
   ]
  },
  {
   "cell_type": "code",
   "execution_count": 2,
   "metadata": {},
   "outputs": [],
   "source": [
    "file_collector = FileCollector()\n",
    "date_to_sensor_files = file_collector.get_files_matched_to_date(input_path)\n",
    "for sensor_files in date_to_sensor_files:\n",
    "    for sensor_file in date_to_sensor_files[sensor_files]:\n",
    "        dataframe_ref = pandas.read_csv(input_path+sensor_file, usecols=['Unnamed: 0'])\n",
    "        dataframe_ref = dataframe_ref.rename(columns={'Unnamed: 0':'timer'})\n",
    "        dataframe_ref.to_csv(out_path+sensor_file, index=False)"
   ]
  }
 ],
 "metadata": {
  "kernelspec": {
   "display_name": "Python 3",
   "language": "python",
   "name": "python3"
  },
  "language_info": {
   "codemirror_mode": {
    "name": "ipython",
    "version": 3
   },
   "file_extension": ".py",
   "mimetype": "text/x-python",
   "name": "python",
   "nbconvert_exporter": "python",
   "pygments_lexer": "ipython3",
   "version": "3.8.3"
  }
 },
 "nbformat": 4,
 "nbformat_minor": 4
}
