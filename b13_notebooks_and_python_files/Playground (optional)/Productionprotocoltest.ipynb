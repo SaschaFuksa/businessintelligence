{
 "cells": [
  {
   "cell_type": "code",
   "execution_count": 1,
   "metadata": {},
   "outputs": [],
   "source": [
    "import pandas as pd"
   ]
  },
  {
   "cell_type": "code",
   "execution_count": 2,
   "metadata": {},
   "outputs": [],
   "source": [
    "customer_data_file = 'Datum_Produktionsprotokoll_01.10-01.11.2021.xlsx'"
   ]
  },
  {
   "cell_type": "code",
   "execution_count": null,
   "metadata": {},
   "outputs": [],
   "source": [
    "dataframe1 = pd.read_excel('Datum_Produktionsprotokoll_01.10-01.11.2021.xlsx', skiprows = 19)\n",
    "#print(dataframe1)"
   ]
  },
  {
   "cell_type": "markdown",
   "metadata": {},
   "source": [
    "Auftrag\t4241460010\n",
    "Programm\t7789R2\n",
    "Werkzeug\t6705-2-6706-2\n",
    "Maschinennummer\t243751\n",
    "Zeitpunkt\t01.10.21 14:25\n",
    "f1403\tProtokollzyklenzähler\n",
    "t008\tTag.Monat\n",
    "t007\tUhrzeit\n",
    "p4055\tmaximaler Spritzdruck, Istwert\n",
    "p4072\tUmschaltspritzdruck, Istwert\n",
    "V4062\tMassepolster, Istwert\n",
    "t4012\tZykluszeit, Istwert\n",
    "t4015\tDosierzeit, Istwert\n",
    "t4018\tEinspritzzeit, Istwert\n",
    "T805I\tZylinderheizzone 5, Istwert\n",
    "T840I\tWerkzeugheizkreis 10, Istwert\n",
    "\t\n",
    "t4052\tWerkzeugsicherungszeit, Istwert"
   ]
  },
  {
   "cell_type": "code",
   "execution_count": null,
   "metadata": {},
   "outputs": [],
   "source": [
    "data_frame_a = pd.DataFrame(dataframe1, columns=['f1403','t008','t007','p4055','p4072','V4062','t4012','t4015','t4018','T805I','T840I', 't4052'])"
   ]
  },
  {
   "cell_type": "code",
   "execution_count": null,
   "metadata": {},
   "outputs": [],
   "source": [
    "data_frame_a = data_frame_a.iloc[3:]\n",
    "\n",
    "\n",
    "\n"
   ]
  },
  {
   "cell_type": "code",
   "execution_count": null,
   "metadata": {},
   "outputs": [],
   "source": [
    "data_frame_a = data_frame_a.rename(columns={'f1403':'Protokollzyklenzähler'})\n",
    "data_frame_a = data_frame_a.rename(columns={'t008':'Tag.Monat'})\n",
    "data_frame_a = data_frame_a.rename(columns={'t007':'Uhrzeit'})\n",
    "data_frame_a = data_frame_a.rename(columns={'p4055':'maximaler Spritzdruck, Istwert'})\n",
    "data_frame_a = data_frame_a.rename(columns={'p4072':'Umschaltspritzdruck, Istwert'})\n",
    "data_frame_a = data_frame_a.rename(columns={'V4062':'Massepolster, Istwert'})\n",
    "data_frame_a = data_frame_a.rename(columns={'t4012':'Zykluszeit, Istwert'})\n",
    "data_frame_a = data_frame_a.rename(columns={'t4015':'Dosierzeit, Istwert'})\n",
    "data_frame_a = data_frame_a.rename(columns={'t4018':'Einspritzzeit, Istwert'})\n",
    "data_frame_a = data_frame_a.rename(columns={'T805I':'Zylinderheizzone 5, Istwert'})\n",
    "data_frame_a = data_frame_a.rename(columns={'T840I':'Werkzeugheizkreis 10, Istwert'})\n",
    "data_frame_a = data_frame_a.rename(columns={'t4052':'Werkzeugsicherungszeit, Istwert'})\n",
    "data_frame_a"
   ]
  },
  {
   "cell_type": "code",
   "execution_count": null,
   "metadata": {},
   "outputs": [],
   "source": [
    "datatypes = data_frame_a.dtypes\n",
    "datatypes"
   ]
  },
  {
   "cell_type": "code",
   "execution_count": null,
   "metadata": {},
   "outputs": [],
   "source": [
    "data_frame_a['Tag.Monat'] = data_frame_a['Tag.Monat'].astype(str)\n"
   ]
  },
  {
   "cell_type": "code",
   "execution_count": null,
   "metadata": {},
   "outputs": [],
   "source": [
    "data_frame_a"
   ]
  },
  {
   "cell_type": "code",
   "execution_count": null,
   "metadata": {},
   "outputs": [],
   "source": [
    "data_frame_a['Tag.Monat'] = data_frame_a['Tag.Monat'].str.rstrip('00:00:00')\n",
    "data_frame_a"
   ]
  },
  {
   "cell_type": "code",
   "execution_count": null,
   "metadata": {},
   "outputs": [],
   "source": [
    "data_frame_a[\"timer\"] = data_frame_a[\"Tag.Monat\"].astype(str) + data_frame_a[\"Uhrzeit\"].astype(str)"
   ]
  },
  {
   "cell_type": "code",
   "execution_count": null,
   "metadata": {},
   "outputs": [],
   "source": [
    "data_frame_a = data_frame_a.set_index(data_frame_a.timer)\n",
    "data_frame_a = data_frame_a.drop('Tag.Monat', axis=1)\n",
    "data_frame_a = data_frame_a.drop('Uhrzeit', axis=1)\n",
    "data_frame_a"
   ]
  },
  {
   "cell_type": "code",
   "execution_count": null,
   "metadata": {
    "scrolled": true
   },
   "outputs": [],
   "source": [
    "#data_frame_a[\"Tag.Monat\"] = pd.to_datetime(data_frame_a[\"Tag.Monat\"])\n",
    "#data_frame_a[\"Uhrzeit\"] = pd.to_timedelta(data_frame_a[\"Uhrzeit\"])\n",
    "\n",
    "\n",
    "data_frame_a[(data_frame_a['timer'] > '2021-10-15 23:59:00') & (data_frame_a['timer'] < '2021-11-01 22:43:00')]\n",
    "\n"
   ]
  }
 ],
 "metadata": {
  "kernelspec": {
   "display_name": "Python 3",
   "language": "python",
   "name": "python3"
  },
  "language_info": {
   "codemirror_mode": {
    "name": "ipython",
    "version": 3
   },
   "file_extension": ".py",
   "mimetype": "text/x-python",
   "name": "python",
   "nbconvert_exporter": "python",
   "pygments_lexer": "ipython3",
   "version": "3.8.3"
  }
 },
 "nbformat": 4,
 "nbformat_minor": 5
}
