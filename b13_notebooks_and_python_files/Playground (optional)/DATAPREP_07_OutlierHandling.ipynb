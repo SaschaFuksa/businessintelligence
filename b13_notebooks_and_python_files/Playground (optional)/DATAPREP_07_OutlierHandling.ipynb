{
 "cells": [
  {
   "cell_type": "code",
   "execution_count": 11,
   "metadata": {},
   "outputs": [],
   "source": [
    "from sklearn.linear_model import LinearRegression\n",
    "\n",
    "#Regression model training and testing to compare outlier detection algorithm effects\n",
    "def reg_train_test(X_train,y_train,X_test, y_test):\n",
    "    # fit the model\n",
    "    model = LinearRegression()\n",
    "    model.fit(X_train, y_train)\n",
    "    # evaluate the model\n",
    "    ypred = model.predict(X_test)\n",
    "    # evaluate predictions\n",
    "    mae = mean_absolute_error(y_test, ypred)\n",
    "    print('MAE: %.3f' % mae)"
   ]
  },
  {
   "cell_type": "code",
   "execution_count": 12,
   "metadata": {},
   "outputs": [
    {
     "name": "stdout",
     "output_type": "stream",
     "text": [
      "Shape of dataset:  (339, 13) (339,)\n",
      "MAE: 3.417\n"
     ]
    }
   ],
   "source": [
    "# Example based on https://machinelearningmastery.com/model-based-outlier-detection-and-removal-in-python/\n",
    "# evaluate model on the raw dataset\n",
    "from pandas import read_csv\n",
    "from sklearn.model_selection import train_test_split\n",
    "\n",
    "from sklearn.metrics import mean_absolute_error\n",
    "\n",
    "# load the dataset\n",
    "url = 'https://raw.githubusercontent.com/jbrownlee/Datasets/master/housing.csv'\n",
    "df = read_csv(url, header=None)\n",
    "# retrieve the array\n",
    "data = df.values\n",
    "# split into input and output elements\n",
    "X, y = data[:, :-1], data[:, -1]\n",
    "# split into train and test sets\n",
    "X_train, X_test, y_train, y_test = train_test_split(X, y, test_size=0.33, random_state=1)\n",
    "# summarize the shape of the training dataset\n",
    "print(\"Shape of dataset: \",X_train.shape, y_train.shape)\n",
    "\n",
    "reg_train_test(X_train,y_train,X_test, y_test)"
   ]
  },
  {
   "cell_type": "markdown",
   "metadata": {},
   "source": [
    "# Univariate outlier detection based on descriptive statistics "
   ]
  },
  {
   "cell_type": "code",
   "execution_count": 13,
   "metadata": {},
   "outputs": [
    {
     "name": "stdout",
     "output_type": "stream",
     "text": [
      "mean:  3.7939862536873155 lower boundary inlier:  -22.177520996105127 upper boundary inlier 29.765493503479757 \n",
      "\n",
      "51.1358  is a potential outlier\n",
      "73.5341  is a potential outlier\n",
      "41.5292  is a potential outlier\n",
      "45.7461  is a potential outlier\n",
      "67.9208  is a potential outlier\n",
      "38.3518  is a potential outlier\n"
     ]
    }
   ],
   "source": [
    "#Univariate outlier detection based on descriptive statistics (three standard deviations)\n",
    "#can be useful to identify extreme outliers\n",
    "feature1=X_train[:,0]\n",
    "\n",
    "three_std=feature1.std()*3\n",
    "mean=feature1.mean()\n",
    "\n",
    "inlier_low=mean-three_std\n",
    "inlier_high=mean+three_std\n",
    "\n",
    "print(\"mean: \",mean, \"lower boundary inlier: \",inlier_low, \"upper boundary inlier\",inlier_high,\"\\n\")\n",
    "\n",
    "for value in feature1:\n",
    "    if value < inlier_low or value > inlier_high:\n",
    "        print(value,\" is a potential outlier\")    "
   ]
  },
  {
   "cell_type": "markdown",
   "metadata": {},
   "source": [
    "# Multivariate outlier detection based on distances"
   ]
  },
  {
   "cell_type": "code",
   "execution_count": 14,
   "metadata": {},
   "outputs": [
    {
     "data": {
      "image/png": "[encoded data removed]",
      "text/plain": [
       "<Figure size 432x288 with 1 Axes>"
      ]
     },
     "metadata": {
      "needs_background": "light"
     },
     "output_type": "display_data"
    },
    {
     "data": {
      "image/png": "[encoded data removed]",
      "text/plain": [
       "<Figure size 432x288 with 1 Axes>"
      ]
     },
     "metadata": {
      "needs_background": "light"
     },
     "output_type": "display_data"
    }
   ],
   "source": [
    "#Multivariate outlier detection based on distances\n",
    "from sklearn.neighbors import NearestNeighbors\n",
    "from sklearn import preprocessing\n",
    "import numpy as np\n",
    "import matplotlib.pyplot as plt\n",
    "\n",
    "#normalize data to identify outliers\n",
    "scaler = preprocessing.MinMaxScaler()\n",
    "X= scaler.fit_transform(X_train)\n",
    "\n",
    "#determine k nearest neighbors ()\n",
    "k=3\n",
    "nbrs = NearestNeighbors(n_neighbors=k+1, algorithm='ball_tree').fit(X)\n",
    "distances, indices = nbrs.kneighbors(X)\n",
    "\n",
    "#plot Distances to k-nearest neighbor, top 100\n",
    "plt.title('Distances to k-nearest neighbor, top 100')\n",
    "top_distance_min=0\n",
    "top_distance_max=100\n",
    "plt.plot(indices[top_distance_min:top_distance_max,0],-np.sort(-distances[:,k])[top_distance_min:top_distance_max])\n",
    "plt.show()\n",
    "\n",
    "#plot Distances to k-nearest neighbor, selected\n",
    "plt.title('Distances to k-nearest neighbor, selected')\n",
    "top_distance_min=10\n",
    "top_distance_max=40\n",
    "plt.plot(indices[top_distance_min:top_distance_max,0],-np.sort(-distances[:,k])[top_distance_min:top_distance_max])\n",
    "plt.show()"
   ]
  },
  {
   "cell_type": "code",
   "execution_count": 15,
   "metadata": {},
   "outputs": [
    {
     "name": "stdout",
     "output_type": "stream",
     "text": [
      "Inliers:  319 Outliers 20\n",
      "Train regression model based on inliers and test it:\n",
      "MAE: 3.289\n"
     ]
    }
   ],
   "source": [
    "#k= number of outliers // 10% of data\n",
    "num_outliers= 20 # 35\n",
    "outlier_indices=np.argpartition(distances[:,1],-num_outliers)[-num_outliers:]\n",
    "inlier_indices=np.delete(indices[:,0], outlier_indices)\n",
    "\n",
    "#print(\"Indices of outliers: \",outlier_indices)\n",
    "#print(\"Indices of inliers: \",inlier_indices)\n",
    "#print(\"Distances of outliers: \",distances[outlier_indices,1])\n",
    "#print(\"Max 10 distances: \",-np.sort(-distances[:,1])[0:10])\n",
    "\n",
    "# select all rows that are not outliers (inlier=1, outlier=-1)\n",
    "X_train_red, y_train_red = X_train[inlier_indices, :], y_train[inlier_indices]\n",
    "\n",
    "# Inliers vs. Outliers\n",
    "print(\"Inliers: \",X_train_red.shape[0],\"Outliers\",X_train.shape[0]-X_train_red.shape[0])\n",
    "print(\"Train regression model based on inliers and test it:\")\n",
    "reg_train_test(X_train_red,y_train_red,X_test, y_test)"
   ]
  },
  {
   "cell_type": "markdown",
   "metadata": {},
   "source": [
    "# Multivariate outlier detection based on density (clustering)"
   ]
  },
  {
   "cell_type": "code",
   "execution_count": 16,
   "metadata": {},
   "outputs": [
    {
     "name": "stdout",
     "output_type": "stream",
     "text": [
      "inliers:              index    distance\n",
      "count  321.000000  321.000000\n",
      "mean   168.579439    0.167936\n",
      "std     98.669401    0.083947\n",
      "min      0.000000    0.031569\n",
      "25%     84.000000    0.113670\n",
      "50%    167.000000    0.151446\n",
      "75%    254.000000    0.208289\n",
      "max    338.000000    0.416416\n",
      "\n",
      "outliers:              index   distance\n",
      "count   18.000000  18.000000\n",
      "mean   176.500000   0.421312\n",
      "std     87.451667   0.154454\n",
      "min     34.000000   0.201963\n",
      "25%     94.000000   0.282542\n",
      "50%    187.500000   0.442709\n",
      "75%    250.250000   0.467356\n",
      "max    313.000000   0.757561\n"
     ]
    }
   ],
   "source": [
    "#Multivariate outlier detection based on density (clustering)\n",
    "#Density Clustering\n",
    "from sklearn.cluster import DBSCAN\n",
    "import pandas as pd\n",
    "\n",
    "clustering = DBSCAN(eps=0.42, min_samples=5).fit(X)\n",
    "\n",
    "inliers=[]\n",
    "outliers=[]\n",
    "index_upper=distances[:,1].size\n",
    "\n",
    "for index in range (0,index_upper):\n",
    "    if clustering.labels_[index] == -1:\n",
    "        outliers.append([index, distances[index,1]])\n",
    "    else:\n",
    "        inliers.append([index, distances[index,1]])\n",
    "\n",
    "inliers_df=pd.DataFrame(inliers,columns=['index','distance'])\n",
    "outliers_df=pd.DataFrame(outliers,columns=['index','distance'])\n",
    "\n",
    "print(\"inliers: \",inliers_df.describe())\n",
    "print(\"\\noutliers: \",outliers_df.describe())"
   ]
  },
  {
   "cell_type": "code",
   "execution_count": 17,
   "metadata": {},
   "outputs": [
    {
     "name": "stdout",
     "output_type": "stream",
     "text": [
      "Inliers:  321 Outliers 18\n",
      "Train regression model based on inliers and test it:\n",
      "MAE: 3.272\n"
     ]
    }
   ],
   "source": [
    "# select all rows that are not outliers (inlier=1, outlier=-1)\n",
    "X_train_red, y_train_red = X_train[inliers_df['index'], :], y_train[inliers_df['index']]\n",
    "\n",
    "# Inliers vs. Outliers\n",
    "print(\"Inliers: \",X_train_red.shape[0],\"Outliers\",X_train.shape[0]-X_train_red.shape[0])\n",
    "print(\"Train regression model based on inliers and test it:\")\n",
    "reg_train_test(X_train_red,y_train_red,X_test, y_test)"
   ]
  },
  {
   "cell_type": "markdown",
   "metadata": {},
   "source": [
    "Outlier Detection based on Local Outlier Factor\n",
    "\n",
    "The local outlier factor, or LOF for short, is a technique that attempts to harness the idea of nearest neighbors for outlier detection. Each example is assigned a scoring of how isolated or how likely it is to be outliers based on the size of its local neighborhood. Those examples with the largest score are more likely to be outliers."
   ]
  },
  {
   "cell_type": "markdown",
   "metadata": {},
   "source": [
    "# Multivariate outlier detection using local outlier factor (LOF)"
   ]
  },
  {
   "cell_type": "code",
   "execution_count": 18,
   "metadata": {},
   "outputs": [
    {
     "name": "stdout",
     "output_type": "stream",
     "text": [
      "Inliers:  327 Outliers 12\n",
      "Train regression model based on inliers and test it:\n",
      "MAE: 3.336\n"
     ]
    }
   ],
   "source": [
    "#Multivariate outlier detection using local outlier factor (LOF)\n",
    "from sklearn.neighbors import LocalOutlierFactor\n",
    "\n",
    "# re-use the same dataset like before url = 'https://raw.githubusercontent.com/jbrownlee/Datasets/master/housing.csv'\n",
    "# identify outliers in the training dataset\n",
    "lof = LocalOutlierFactor(n_neighbors=20)\n",
    "y_out = lof.fit_predict(X)\n",
    "# select all rows that are not outliers\n",
    "mask = y_out != -1\n",
    "X_train_red, y_train_red = X_train[mask, :], y_train[mask]\n",
    "\n",
    "# Inliers vs. Outliers\n",
    "print(\"Inliers: \",X_train_red.shape[0],\"Outliers\",X_train.shape[0]-X_train_red.shape[0])\n",
    "print(\"Train regression model based on inliers and test it:\")\n",
    "reg_train_test(X_train_red,y_train_red,X_test, y_test)"
   ]
  }
 ],
 "metadata": {
  "kernelspec": {
   "display_name": "Python 3",
   "language": "python",
   "name": "python3"
  },
  "language_info": {
   "codemirror_mode": {
    "name": "ipython",
    "version": 3
   },
   "file_extension": ".py",
   "mimetype": "text/x-python",
   "name": "python",
   "nbconvert_exporter": "python",
   "pygments_lexer": "ipython3",
   "version": "3.8.3"
  }
 },
 "nbformat": 4,
 "nbformat_minor": 4
}
